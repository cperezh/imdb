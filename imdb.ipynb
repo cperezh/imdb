{
 "cells": [
  {
   "cell_type": "code",
   "execution_count": 1,
   "metadata": {},
   "outputs": [
    {
     "output_type": "error",
     "ename": "ModuleNotFoundError",
     "evalue": "No module named 'psycopg2'",
     "traceback": [
      "\u001b[1;31m---------------------------------------------------------------------------\u001b[0m",
      "\u001b[1;31mModuleNotFoundError\u001b[0m                       Traceback (most recent call last)",
      "\u001b[1;32m<ipython-input-1-56075fcf3495>\u001b[0m in \u001b[0;36m<module>\u001b[1;34m\u001b[0m\n\u001b[0;32m      1\u001b[0m \u001b[1;32mimport\u001b[0m \u001b[0mpandas\u001b[0m \u001b[1;32mas\u001b[0m \u001b[0mpd\u001b[0m\u001b[1;33m\u001b[0m\u001b[1;33m\u001b[0m\u001b[0m\n\u001b[1;32m----> 2\u001b[1;33m \u001b[1;32mimport\u001b[0m \u001b[0mpsycopg2\u001b[0m\u001b[1;33m\u001b[0m\u001b[1;33m\u001b[0m\u001b[0m\n\u001b[0m",
      "\u001b[1;31mModuleNotFoundError\u001b[0m: No module named 'psycopg2'"
     ]
    }
   ],
   "source": [
    "import pandas as pd\n",
    "import psycopg2"
   ]
  },
  {
   "cell_type": "markdown",
   "metadata": {},
   "source": [
    "**Formatear el fichero de titulos**"
   ]
  },
  {
   "cell_type": "code",
   "execution_count": 13,
   "metadata": {},
   "outputs": [
    {
     "name": "stdout",
     "output_type": "stream",
     "text": [
      "Problema en linea :  25431179\n"
     ]
    }
   ],
   "source": [
    "file = \"./archive/title.akas.tsv/data.tsv\"\n",
    "file2 = \"./archive/title.akas.tsv/data2.tsv\"\n",
    "\n",
    "with open(file, 'r',encoding=\"UTF-8\") as dat:\n",
    "    \n",
    "    with open (file2, \"w\", encoding=\"UTF-8\") as dat2:\n",
    "        \n",
    "        #Cabecera\n",
    "        header = dat.readline()\n",
    "        dat2.write(header)\n",
    "        \n",
    "        for i in range(30000000):\n",
    "            line = dat.readline()\n",
    "            \n",
    "            #Quito el \\n del final y divido por tab\n",
    "            line_split = line.replace(\"\\n\",\"\").split(\"\\t\")\n",
    "            \n",
    "            try:\n",
    "                #Mer quedo solo con los titulos originales\n",
    "                if line_split[7]==\"1\":\n",
    "                    dat2.write(line)\n",
    "            except:\n",
    "                print(\"Problema en linea : \",i)\n",
    "                break"
   ]
  },
  {
   "cell_type": "markdown",
   "metadata": {},
   "source": [
    "**Formateo fichero Basics**"
   ]
  },
  {
   "cell_type": "code",
   "execution_count": null,
   "metadata": {
    "tags": []
   },
   "outputs": [],
   "source": [
    "file = \"./archive/title.basics.tsv/data.tsv\"\n",
    "file2 = \"./archive/title.basics.tsv/data2.tsv\""
   ]
  },
  {
   "cell_type": "code",
   "execution_count": 24,
   "metadata": {
    "tags": []
   },
   "outputs": [],
   "source": [
    "num_lines = sum(1 for line in open(file, encoding=\"UTF-8\"))\n",
    "print(num_lines)"
   ]
  },
  {
   "cell_type": "code",
   "execution_count": 28,
   "metadata": {},
   "outputs": [],
   "source": [
    "with open(file, 'r',encoding=\"UTF-8\") as dat:\n",
    "    \n",
    "    with open (file2, \"w\", encoding=bb\"UTF-8\") as dat2:\n",
    "        \n",
    "        #Cabecera\n",
    "        header = dat.readline()\n",
    "        new_header = header.replace(\"tconst\",\"titleid\")\n",
    "        dat2.write(new_header)\n",
    "        \n",
    "        for i in range(650000):\n",
    "            line = dat.readline()\n",
    "           \n",
    "            #Quito el \\n del final y divido por tab\n",
    "            new_line = line.replace(\"\\\\N\",\"\")\n",
    "            \n",
    "            dat2.write(new_line)"
   ]
  },
  {
   "cell_type": "markdown",
   "metadata": {},
   "source": [
    "**Formatear fichero CREW**"
   ]
  },
  {
   "cell_type": "code",
   "execution_count": 45,
   "metadata": {
    "tags": []
   },
   "outputs": [],
   "source": [
    "file = \"./archive/title.crew.tsv/data.tsv\"\n",
    "file2 = \"./archive/title.crew.tsv/data2.tsv\""
   ]
  },
  {
   "cell_type": "code",
   "execution_count": 46,
   "metadata": {
    "tags": []
   },
   "outputs": [
    {
     "name": "stdout",
     "output_type": "stream",
     "text": [
      "7681049\n"
     ]
    }
   ],
   "source": [
    "num_lines = sum(1 for line in open(file, encoding=\"UTF-8\"))\n",
    "print(num_lines)"
   ]
  },
  {
   "cell_type": "code",
   "execution_count": 86,
   "metadata": {},
   "outputs": [
    {
     "ename": "IndexError",
     "evalue": "list index out of range",
     "output_type": "error",
     "traceback": [
      "\u001b[1;31m---------------------------------------------------------------------------\u001b[0m",
      "\u001b[1;31mIndexError\u001b[0m                                Traceback (most recent call last)",
      "\u001b[1;32m<ipython-input-86-06cd0d747aef>\u001b[0m in \u001b[0;36m<module>\u001b[1;34m\u001b[0m\n\u001b[0;32m     17\u001b[0m \u001b[1;33m\u001b[0m\u001b[0m\n\u001b[0;32m     18\u001b[0m             \u001b[1;31m# Obtengo los directores y los guionistas\u001b[0m\u001b[1;33m\u001b[0m\u001b[1;33m\u001b[0m\u001b[1;33m\u001b[0m\u001b[0m\n\u001b[1;32m---> 19\u001b[1;33m             \u001b[0mdirectors\u001b[0m \u001b[1;33m=\u001b[0m \u001b[0mline_split\u001b[0m\u001b[1;33m[\u001b[0m\u001b[1;36m1\u001b[0m\u001b[1;33m]\u001b[0m\u001b[1;33m.\u001b[0m\u001b[0msplit\u001b[0m\u001b[1;33m(\u001b[0m\u001b[1;34m\",\"\u001b[0m\u001b[1;33m)\u001b[0m\u001b[1;33m\u001b[0m\u001b[1;33m\u001b[0m\u001b[0m\n\u001b[0m\u001b[0;32m     20\u001b[0m             \u001b[0mwriters\u001b[0m \u001b[1;33m=\u001b[0m \u001b[0mline_split\u001b[0m\u001b[1;33m[\u001b[0m\u001b[1;36m2\u001b[0m\u001b[1;33m]\u001b[0m\u001b[1;33m.\u001b[0m\u001b[0msplit\u001b[0m\u001b[1;33m(\u001b[0m\u001b[1;34m\",\"\u001b[0m\u001b[1;33m)\u001b[0m\u001b[1;33m\u001b[0m\u001b[1;33m\u001b[0m\u001b[0m\n\u001b[0;32m     21\u001b[0m \u001b[1;33m\u001b[0m\u001b[0m\n",
      "\u001b[1;31mIndexError\u001b[0m: list index out of range"
     ]
    }
   ],
   "source": [
    "with open(file, 'r',encoding=\"UTF-8\") as dat:\n",
    "    \n",
    "    with open (file2, \"w\", encoding=\"UTF-8\") as dat2:\n",
    "        \n",
    "        #Cabecera\n",
    "        header = dat.readline()\n",
    "        new_header = \"titleid\"+\"\\t\"+\"crewid\"+\"\\t\"+\"typeid\"+\"\\n\"\n",
    "        dat2.write(new_header)\n",
    "        \n",
    "        for i in range(7681049):\n",
    "            line = dat.readline()\n",
    "            \n",
    "            #Quito el \\N y la \\n del final\n",
    "            line = line.replace(\"\\\\N\",\"\").replace(\"\\n\", \"\")\n",
    "            \n",
    "            line_split = line.split(\"\\t\") \n",
    "            \n",
    "            # Obtengo los directores y los guionistas\n",
    "            directors = line_split[1].split(\",\")\n",
    "            writers = line_split[2].split(\",\")\n",
    "            \n",
    "            # Pivoto los directores --> tipo 0\n",
    "            for d in directors:\n",
    "                if d!=\"\":\n",
    "                    new_line = line_split[0]+\"\\t\"+d+\"\\t\"+\"0\"+\"\\n\"\n",
    "                    dat2.write(new_line)\n",
    "            \n",
    "            # Pivoto los guionistas --> tipo 1\n",
    "            for w in writers:\n",
    "                if w!=\"\":\n",
    "                    new_line = line_split[0]+\"\\t\"+w+\"\\t\"+\"1\"+\"\\n\"\n",
    "                    dat2.write(new_line)\n",
    "            \n",
    "            "
   ]
  },
  {
   "cell_type": "markdown",
   "metadata": {},
   "source": [
    "**Conectar a la BD para explorar los datos cargados**"
   ]
  },
  {
   "cell_type": "code",
   "execution_count": 2,
   "metadata": {},
   "outputs": [],
   "source": [
    "conn = psycopg2.connect(\n",
    "    host=\"localhost\",\n",
    "    database=\"imdb\",\n",
    "    user=\"postgres\",\n",
    "    password=\"postgres\")"
   ]
  },
  {
   "cell_type": "code",
   "execution_count": 29,
   "metadata": {},
   "outputs": [],
   "source": [
    "query = '''\n",
    "select \n",
    "    t.titleid,\n",
    "    t.title,\n",
    "    r.average_rating,\n",
    "    r.num_votes,\n",
    "    b.startyear,\n",
    "    b.runtimeminutes,\n",
    "    b.genres\n",
    "from title t\n",
    "    inner join rating r on r.titleid = t.titleid\n",
    "    inner join basics b on b.titleid = t.titleid\n",
    "where b.titletype like 'movie%'\n",
    "order by r.num_votes desc, r.average_rating desc\n",
    "'''"
   ]
  },
  {
   "cell_type": "code",
   "execution_count": 30,
   "metadata": {},
   "outputs": [],
   "source": [
    "df = pd.read_sql_query(query,con=conn)"
   ]
  },
  {
   "cell_type": "code",
   "execution_count": 31,
   "metadata": {},
   "outputs": [
    {
     "data": {
      "text/plain": [
       "array([[<AxesSubplot:title={'center':'average_rating'}>,\n",
       "        <AxesSubplot:title={'center':'num_votes'}>],\n",
       "       [<AxesSubplot:title={'center':'startyear'}>,\n",
       "        <AxesSubplot:title={'center':'runtimeminutes'}>]], dtype=object)"
      ]
     },
     "execution_count": 31,
     "metadata": {},
     "output_type": "execute_result"
    },
    {
     "data": {
      "image/png": "[encoded data removed]",
      "text/plain": [
       "<Figure size 432x288 with 4 Axes>"
      ]
     },
     "metadata": {
      "needs_background": "light"
     },
     "output_type": "display_data"
    }
   ],
   "source": [
    "df.hist(bins=50)"
   ]
  },
  {
   "cell_type": "code",
   "execution_count": 32,
   "metadata": {},
   "outputs": [
    {
     "data": {
      "text/html": [
       "<div>\n",
       "<style scoped>\n",
       "    .dataframe tbody tr th:only-of-type {\n",
       "        vertical-align: middle;\n",
       "    }\n",
       "\n",
       "    .dataframe tbody tr th {\n",
       "        vertical-align: top;\n",
       "    }\n",
       "\n",
       "    .dataframe thead th {\n",
       "        text-align: right;\n",
       "    }\n",
       "</style>\n",
       "<table border=\"1\" class=\"dataframe\">\n",
       "  <thead>\n",
       "    <tr style=\"text-align: right;\">\n",
       "      <th></th>\n",
       "      <th>average_rating</th>\n",
       "      <th>num_votes</th>\n",
       "      <th>startyear</th>\n",
       "      <th>runtimeminutes</th>\n",
       "    </tr>\n",
       "  </thead>\n",
       "  <tbody>\n",
       "    <tr>\n",
       "      <th>count</th>\n",
       "      <td>110131.00000</td>\n",
       "      <td>1.101310e+05</td>\n",
       "      <td>110129.000000</td>\n",
       "      <td>103034.000000</td>\n",
       "    </tr>\n",
       "    <tr>\n",
       "      <th>mean</th>\n",
       "      <td>6.07118</td>\n",
       "      <td>4.471339e+03</td>\n",
       "      <td>1973.969091</td>\n",
       "      <td>94.301269</td>\n",
       "    </tr>\n",
       "    <tr>\n",
       "      <th>std</th>\n",
       "      <td>1.13891</td>\n",
       "      <td>3.917350e+04</td>\n",
       "      <td>23.342969</td>\n",
       "      <td>30.657807</td>\n",
       "    </tr>\n",
       "    <tr>\n",
       "      <th>min</th>\n",
       "      <td>1.00000</td>\n",
       "      <td>5.000000e+00</td>\n",
       "      <td>1897.000000</td>\n",
       "      <td>6.000000</td>\n",
       "    </tr>\n",
       "    <tr>\n",
       "      <th>25%</th>\n",
       "      <td>5.40000</td>\n",
       "      <td>2.200000e+01</td>\n",
       "      <td>1957.000000</td>\n",
       "      <td>83.000000</td>\n",
       "    </tr>\n",
       "    <tr>\n",
       "      <th>50%</th>\n",
       "      <td>6.20000</td>\n",
       "      <td>8.200000e+01</td>\n",
       "      <td>1977.000000</td>\n",
       "      <td>92.000000</td>\n",
       "    </tr>\n",
       "    <tr>\n",
       "      <th>75%</th>\n",
       "      <td>6.90000</td>\n",
       "      <td>4.240000e+02</td>\n",
       "      <td>1994.000000</td>\n",
       "      <td>102.000000</td>\n",
       "    </tr>\n",
       "    <tr>\n",
       "      <th>max</th>\n",
       "      <td>9.90000</td>\n",
       "      <td>2.358150e+06</td>\n",
       "      <td>2020.000000</td>\n",
       "      <td>5220.000000</td>\n",
       "    </tr>\n",
       "  </tbody>\n",
       "</table>\n",
       "</div>"
      ],
      "text/plain": [
       "       average_rating     num_votes      startyear  runtimeminutes\n",
       "count    110131.00000  1.101310e+05  110129.000000   103034.000000\n",
       "mean          6.07118  4.471339e+03    1973.969091       94.301269\n",
       "std           1.13891  3.917350e+04      23.342969       30.657807\n",
       "min           1.00000  5.000000e+00    1897.000000        6.000000\n",
       "25%           5.40000  2.200000e+01    1957.000000       83.000000\n",
       "50%           6.20000  8.200000e+01    1977.000000       92.000000\n",
       "75%           6.90000  4.240000e+02    1994.000000      102.000000\n",
       "max           9.90000  2.358150e+06    2020.000000     5220.000000"
      ]
     },
     "execution_count": 32,
     "metadata": {},
     "output_type": "execute_result"
    }
   ],
   "source": [
    "df.describe()"
   ]
  },
  {
   "cell_type": "code",
   "execution_count": 39,
   "metadata": {},
   "outputs": [
    {
     "data": {
      "text/html": [
       "<div>\n",
       "<style scoped>\n",
       "    .dataframe tbody tr th:only-of-type {\n",
       "        vertical-align: middle;\n",
       "    }\n",
       "\n",
       "    .dataframe tbody tr th {\n",
       "        vertical-align: top;\n",
       "    }\n",
       "\n",
       "    .dataframe thead th {\n",
       "        text-align: right;\n",
       "    }\n",
       "</style>\n",
       "<table border=\"1\" class=\"dataframe\">\n",
       "  <thead>\n",
       "    <tr style=\"text-align: right;\">\n",
       "      <th></th>\n",
       "      <th>titleid</th>\n",
       "      <th>title</th>\n",
       "      <th>average_rating</th>\n",
       "      <th>num_votes</th>\n",
       "      <th>startyear</th>\n",
       "      <th>runtimeminutes</th>\n",
       "      <th>genres</th>\n",
       "    </tr>\n",
       "  </thead>\n",
       "  <tbody>\n",
       "    <tr>\n",
       "      <th>30305</th>\n",
       "      <td>tt0284020</td>\n",
       "      <td>The Cure for Insomnia                         ...</td>\n",
       "      <td>5.2</td>\n",
       "      <td>347</td>\n",
       "      <td>1987.0</td>\n",
       "      <td>5220.0</td>\n",
       "      <td>Documentary,Music                             ...</td>\n",
       "    </tr>\n",
       "    <tr>\n",
       "      <th>41296</th>\n",
       "      <td>tt0342707</td>\n",
       "      <td>The Longest Most Meaningless Movie in the Worl...</td>\n",
       "      <td>5.6</td>\n",
       "      <td>172</td>\n",
       "      <td>1970.0</td>\n",
       "      <td>2880.0</td>\n",
       "      <td>Documentary,Drama,History                     ...</td>\n",
       "    </tr>\n",
       "    <tr>\n",
       "      <th>57060</th>\n",
       "      <td>tt0179184</td>\n",
       "      <td>****                                          ...</td>\n",
       "      <td>6.3</td>\n",
       "      <td>74</td>\n",
       "      <td>1967.0</td>\n",
       "      <td>1500.0</td>\n",
       "      <td>Drama                                         ...</td>\n",
       "    </tr>\n",
       "    <tr>\n",
       "      <th>53118</th>\n",
       "      <td>tt0095979</td>\n",
       "      <td>Resan                                         ...</td>\n",
       "      <td>7.4</td>\n",
       "      <td>90</td>\n",
       "      <td>1987.0</td>\n",
       "      <td>873.0</td>\n",
       "      <td>Documentary,War                               ...</td>\n",
       "    </tr>\n",
       "    <tr>\n",
       "      <th>16295</th>\n",
       "      <td>tt0246135</td>\n",
       "      <td>Out 1, noli me tangere                        ...</td>\n",
       "      <td>7.8</td>\n",
       "      <td>1190</td>\n",
       "      <td>1971.0</td>\n",
       "      <td>776.0</td>\n",
       "      <td>Drama,Mystery                                 ...</td>\n",
       "    </tr>\n",
       "    <tr>\n",
       "      <th>55110</th>\n",
       "      <td>tt0074334</td>\n",
       "      <td>Comment Yukong déplaça les montagnes          ...</td>\n",
       "      <td>8.0</td>\n",
       "      <td>81</td>\n",
       "      <td>1976.0</td>\n",
       "      <td>763.0</td>\n",
       "      <td>Documentary                                   ...</td>\n",
       "    </tr>\n",
       "    <tr>\n",
       "      <th>65376</th>\n",
       "      <td>tt0106772</td>\n",
       "      <td>Hong lou meng                                 ...</td>\n",
       "      <td>7.6</td>\n",
       "      <td>49</td>\n",
       "      <td>1988.0</td>\n",
       "      <td>735.0</td>\n",
       "      <td>Drama                                         ...</td>\n",
       "    </tr>\n",
       "    <tr>\n",
       "      <th>85743</th>\n",
       "      <td>tt0174864</td>\n",
       "      <td>Leningradskaya retrospektiva (1957-1990)      ...</td>\n",
       "      <td>7.4</td>\n",
       "      <td>18</td>\n",
       "      <td>1990.0</td>\n",
       "      <td>659.0</td>\n",
       "      <td>Documentary,History                           ...</td>\n",
       "    </tr>\n",
       "    <tr>\n",
       "      <th>42771</th>\n",
       "      <td>tt0270784</td>\n",
       "      <td>Khleb - imya sushchestvitelnoe                ...</td>\n",
       "      <td>5.8</td>\n",
       "      <td>158</td>\n",
       "      <td>1988.0</td>\n",
       "      <td>580.0</td>\n",
       "      <td>Drama,History,Romance                         ...</td>\n",
       "    </tr>\n",
       "    <tr>\n",
       "      <th>5531</th>\n",
       "      <td>tt0090015</td>\n",
       "      <td>Shoah                                         ...</td>\n",
       "      <td>8.7</td>\n",
       "      <td>8566</td>\n",
       "      <td>1985.0</td>\n",
       "      <td>566.0</td>\n",
       "      <td>Documentary,History,War                       ...</td>\n",
       "    </tr>\n",
       "  </tbody>\n",
       "</table>\n",
       "</div>"
      ],
      "text/plain": [
       "          titleid                                              title  \\\n",
       "30305  tt0284020   The Cure for Insomnia                         ...   \n",
       "41296  tt0342707   The Longest Most Meaningless Movie in the Worl...   \n",
       "57060  tt0179184   ****                                          ...   \n",
       "53118  tt0095979   Resan                                         ...   \n",
       "16295  tt0246135   Out 1, noli me tangere                        ...   \n",
       "55110  tt0074334   Comment Yukong déplaça les montagnes          ...   \n",
       "65376  tt0106772   Hong lou meng                                 ...   \n",
       "85743  tt0174864   Leningradskaya retrospektiva (1957-1990)      ...   \n",
       "42771  tt0270784   Khleb - imya sushchestvitelnoe                ...   \n",
       "5531   tt0090015   Shoah                                         ...   \n",
       "\n",
       "       average_rating  num_votes  startyear  runtimeminutes  \\\n",
       "30305             5.2        347     1987.0          5220.0   \n",
       "41296             5.6        172     1970.0          2880.0   \n",
       "57060             6.3         74     1967.0          1500.0   \n",
       "53118             7.4         90     1987.0           873.0   \n",
       "16295             7.8       1190     1971.0           776.0   \n",
       "55110             8.0         81     1976.0           763.0   \n",
       "65376             7.6         49     1988.0           735.0   \n",
       "85743             7.4         18     1990.0           659.0   \n",
       "42771             5.8        158     1988.0           580.0   \n",
       "5531              8.7       8566     1985.0           566.0   \n",
       "\n",
       "                                                  genres  \n",
       "30305  Documentary,Music                             ...  \n",
       "41296  Documentary,Drama,History                     ...  \n",
       "57060  Drama                                         ...  \n",
       "53118  Documentary,War                               ...  \n",
       "16295  Drama,Mystery                                 ...  \n",
       "55110  Documentary                                   ...  \n",
       "65376  Drama                                         ...  \n",
       "85743  Documentary,History                           ...  \n",
       "42771  Drama,History,Romance                         ...  \n",
       "5531   Documentary,History,War                       ...  "
      ]
     },
     "execution_count": 39,
     "metadata": {},
     "output_type": "execute_result"
    }
   ],
   "source": [
    "df.sort_values(by=\"runtimeminutes\", ascending=False).head(10)"
   ]
  },
  {
   "cell_type": "code",
   "execution_count": 33,
   "metadata": {},
   "outputs": [
    {
     "data": {
      "text/plain": [
       "<AxesSubplot:>"
      ]
     },
     "execution_count": 33,
     "metadata": {},
     "output_type": "execute_result"
    },
    {
     "data": {
      "image/png": "[encoded data removed]",
      "text/plain": [
       "<Figure size 432x288 with 1 Axes>"
      ]
     },
     "metadata": {
      "needs_background": "light"
     },
     "output_type": "display_data"
    }
   ],
   "source": [
    "df.plot.box()"
   ]
  },
  {
   "cell_type": "markdown",
   "metadata": {},
   "source": [
    "**More voted titles**"
   ]
  },
  {
   "cell_type": "code",
   "execution_count": 40,
   "metadata": {},
   "outputs": [],
   "source": [
    "df_more_voted =df[df.num_votes>1000]"
   ]
  },
  {
   "cell_type": "code",
   "execution_count": 41,
   "metadata": {},
   "outputs": [
    {
     "name": "stdout",
     "output_type": "stream",
     "text": [
      "17902\n"
     ]
    },
    {
     "data": {
      "text/plain": [
       "array([[<AxesSubplot:title={'center':'average_rating'}>,\n",
       "        <AxesSubplot:title={'center':'num_votes'}>],\n",
       "       [<AxesSubplot:title={'center':'startyear'}>,\n",
       "        <AxesSubplot:title={'center':'runtimeminutes'}>]], dtype=object)"
      ]
     },
     "execution_count": 41,
     "metadata": {},
     "output_type": "execute_result"
    },
    {
     "data": {
      "image/png": "[encoded data removed]",
      "text/plain": [
       "<Figure size 432x288 with 4 Axes>"
      ]
     },
     "metadata": {
      "needs_background": "light"
     },
     "output_type": "display_data"
    }
   ],
   "source": [
    "print(len(df_more_voted))\n",
    "df_more_voted.hist()"
   ]
  },
  {
   "cell_type": "code",
   "execution_count": 42,
   "metadata": {},
   "outputs": [
    {
     "data": {
      "text/html": [
       "<div>\n",
       "<style scoped>\n",
       "    .dataframe tbody tr th:only-of-type {\n",
       "        vertical-align: middle;\n",
       "    }\n",
       "\n",
       "    .dataframe tbody tr th {\n",
       "        vertical-align: top;\n",
       "    }\n",
       "\n",
       "    .dataframe thead th {\n",
       "        text-align: right;\n",
       "    }\n",
       "</style>\n",
       "<table border=\"1\" class=\"dataframe\">\n",
       "  <thead>\n",
       "    <tr style=\"text-align: right;\">\n",
       "      <th></th>\n",
       "      <th>average_rating</th>\n",
       "      <th>num_votes</th>\n",
       "      <th>startyear</th>\n",
       "      <th>runtimeminutes</th>\n",
       "    </tr>\n",
       "  </thead>\n",
       "  <tbody>\n",
       "    <tr>\n",
       "      <th>average_rating</th>\n",
       "      <td>1.000000</td>\n",
       "      <td>0.193632</td>\n",
       "      <td>-0.232362</td>\n",
       "      <td>0.249041</td>\n",
       "    </tr>\n",
       "    <tr>\n",
       "      <th>num_votes</th>\n",
       "      <td>0.193632</td>\n",
       "      <td>1.000000</td>\n",
       "      <td>0.137310</td>\n",
       "      <td>0.147677</td>\n",
       "    </tr>\n",
       "    <tr>\n",
       "      <th>startyear</th>\n",
       "      <td>-0.232362</td>\n",
       "      <td>0.137310</td>\n",
       "      <td>1.000000</td>\n",
       "      <td>0.124899</td>\n",
       "    </tr>\n",
       "    <tr>\n",
       "      <th>runtimeminutes</th>\n",
       "      <td>0.249041</td>\n",
       "      <td>0.147677</td>\n",
       "      <td>0.124899</td>\n",
       "      <td>1.000000</td>\n",
       "    </tr>\n",
       "  </tbody>\n",
       "</table>\n",
       "</div>"
      ],
      "text/plain": [
       "                average_rating  num_votes  startyear  runtimeminutes\n",
       "average_rating        1.000000   0.193632  -0.232362        0.249041\n",
       "num_votes             0.193632   1.000000   0.137310        0.147677\n",
       "startyear            -0.232362   0.137310   1.000000        0.124899\n",
       "runtimeminutes        0.249041   0.147677   0.124899        1.000000"
      ]
     },
     "execution_count": 42,
     "metadata": {},
     "output_type": "execute_result"
    }
   ],
   "source": [
    "df_more_voted.corr()"
   ]
  },
  {
   "cell_type": "code",
   "execution_count": 43,
   "metadata": {},
   "outputs": [
    {
     "data": {
      "text/html": [
       "<div>\n",
       "<style scoped>\n",
       "    .dataframe tbody tr th:only-of-type {\n",
       "        vertical-align: middle;\n",
       "    }\n",
       "\n",
       "    .dataframe tbody tr th {\n",
       "        vertical-align: top;\n",
       "    }\n",
       "\n",
       "    .dataframe thead th {\n",
       "        text-align: right;\n",
       "    }\n",
       "</style>\n",
       "<table border=\"1\" class=\"dataframe\">\n",
       "  <thead>\n",
       "    <tr style=\"text-align: right;\">\n",
       "      <th></th>\n",
       "      <th>titleid</th>\n",
       "      <th>title</th>\n",
       "      <th>average_rating</th>\n",
       "      <th>num_votes</th>\n",
       "      <th>startyear</th>\n",
       "      <th>runtimeminutes</th>\n",
       "      <th>genres</th>\n",
       "    </tr>\n",
       "  </thead>\n",
       "  <tbody>\n",
       "    <tr>\n",
       "      <th>0</th>\n",
       "      <td>tt0111161</td>\n",
       "      <td>The Shawshank Redemption                      ...</td>\n",
       "      <td>9.3</td>\n",
       "      <td>2358150</td>\n",
       "      <td>1994.0</td>\n",
       "      <td>142.0</td>\n",
       "      <td>Drama                                         ...</td>\n",
       "    </tr>\n",
       "    <tr>\n",
       "      <th>1</th>\n",
       "      <td>tt0468569</td>\n",
       "      <td>The Dark Knight                               ...</td>\n",
       "      <td>9.0</td>\n",
       "      <td>2317474</td>\n",
       "      <td>2008.0</td>\n",
       "      <td>152.0</td>\n",
       "      <td>Action,Crime,Drama                            ...</td>\n",
       "    </tr>\n",
       "    <tr>\n",
       "      <th>2</th>\n",
       "      <td>tt0137523</td>\n",
       "      <td>Fight Club                                    ...</td>\n",
       "      <td>8.8</td>\n",
       "      <td>1866515</td>\n",
       "      <td>1999.0</td>\n",
       "      <td>139.0</td>\n",
       "      <td>Drama                                         ...</td>\n",
       "    </tr>\n",
       "    <tr>\n",
       "      <th>3</th>\n",
       "      <td>tt0110912</td>\n",
       "      <td>Pulp Fiction                                  ...</td>\n",
       "      <td>8.9</td>\n",
       "      <td>1837871</td>\n",
       "      <td>1994.0</td>\n",
       "      <td>154.0</td>\n",
       "      <td>Crime,Drama                                   ...</td>\n",
       "    </tr>\n",
       "    <tr>\n",
       "      <th>4</th>\n",
       "      <td>tt0109830</td>\n",
       "      <td>Forrest Gump                                  ...</td>\n",
       "      <td>8.8</td>\n",
       "      <td>1822435</td>\n",
       "      <td>1994.0</td>\n",
       "      <td>142.0</td>\n",
       "      <td>Drama,Romance                                 ...</td>\n",
       "    </tr>\n",
       "    <tr>\n",
       "      <th>5</th>\n",
       "      <td>tt0133093</td>\n",
       "      <td>The Matrix                                    ...</td>\n",
       "      <td>8.7</td>\n",
       "      <td>1687100</td>\n",
       "      <td>1999.0</td>\n",
       "      <td>136.0</td>\n",
       "      <td>Action,Sci-Fi                                 ...</td>\n",
       "    </tr>\n",
       "    <tr>\n",
       "      <th>6</th>\n",
       "      <td>tt0120737</td>\n",
       "      <td>The Lord of the Rings: The Fellowship of the R...</td>\n",
       "      <td>8.8</td>\n",
       "      <td>1671405</td>\n",
       "      <td>2001.0</td>\n",
       "      <td>178.0</td>\n",
       "      <td>Action,Adventure,Drama                        ...</td>\n",
       "    </tr>\n",
       "    <tr>\n",
       "      <th>7</th>\n",
       "      <td>tt0167260</td>\n",
       "      <td>The Lord of the Rings: The Return of the King ...</td>\n",
       "      <td>8.9</td>\n",
       "      <td>1651952</td>\n",
       "      <td>2003.0</td>\n",
       "      <td>201.0</td>\n",
       "      <td>Action,Adventure,Drama                        ...</td>\n",
       "    </tr>\n",
       "    <tr>\n",
       "      <th>8</th>\n",
       "      <td>tt0068646</td>\n",
       "      <td>The Godfather                                 ...</td>\n",
       "      <td>9.2</td>\n",
       "      <td>1631985</td>\n",
       "      <td>1972.0</td>\n",
       "      <td>175.0</td>\n",
       "      <td>Crime,Drama                                   ...</td>\n",
       "    </tr>\n",
       "    <tr>\n",
       "      <th>9</th>\n",
       "      <td>tt0167261</td>\n",
       "      <td>The Lord of the Rings: The Two Towers         ...</td>\n",
       "      <td>8.7</td>\n",
       "      <td>1493905</td>\n",
       "      <td>2002.0</td>\n",
       "      <td>179.0</td>\n",
       "      <td>Action,Adventure,Drama                        ...</td>\n",
       "    </tr>\n",
       "  </tbody>\n",
       "</table>\n",
       "</div>"
      ],
      "text/plain": [
       "      titleid                                              title  \\\n",
       "0  tt0111161   The Shawshank Redemption                      ...   \n",
       "1  tt0468569   The Dark Knight                               ...   \n",
       "2  tt0137523   Fight Club                                    ...   \n",
       "3  tt0110912   Pulp Fiction                                  ...   \n",
       "4  tt0109830   Forrest Gump                                  ...   \n",
       "5  tt0133093   The Matrix                                    ...   \n",
       "6  tt0120737   The Lord of the Rings: The Fellowship of the R...   \n",
       "7  tt0167260   The Lord of the Rings: The Return of the King ...   \n",
       "8  tt0068646   The Godfather                                 ...   \n",
       "9  tt0167261   The Lord of the Rings: The Two Towers         ...   \n",
       "\n",
       "   average_rating  num_votes  startyear  runtimeminutes  \\\n",
       "0             9.3    2358150     1994.0           142.0   \n",
       "1             9.0    2317474     2008.0           152.0   \n",
       "2             8.8    1866515     1999.0           139.0   \n",
       "3             8.9    1837871     1994.0           154.0   \n",
       "4             8.8    1822435     1994.0           142.0   \n",
       "5             8.7    1687100     1999.0           136.0   \n",
       "6             8.8    1671405     2001.0           178.0   \n",
       "7             8.9    1651952     2003.0           201.0   \n",
       "8             9.2    1631985     1972.0           175.0   \n",
       "9             8.7    1493905     2002.0           179.0   \n",
       "\n",
       "                                              genres  \n",
       "0  Drama                                         ...  \n",
       "1  Action,Crime,Drama                            ...  \n",
       "2  Drama                                         ...  \n",
       "3  Crime,Drama                                   ...  \n",
       "4  Drama,Romance                                 ...  \n",
       "5  Action,Sci-Fi                                 ...  \n",
       "6  Action,Adventure,Drama                        ...  \n",
       "7  Action,Adventure,Drama                        ...  \n",
       "8  Crime,Drama                                   ...  \n",
       "9  Action,Adventure,Drama                        ...  "
      ]
     },
     "execution_count": 43,
     "metadata": {},
     "output_type": "execute_result"
    }
   ],
   "source": [
    "df_more_voted.sort_values(by=\"num_votes\", ascending=False).head(10)"
   ]
  },
  {
   "cell_type": "code",
   "execution_count": 44,
   "metadata": {},
   "outputs": [
    {
     "data": {
      "text/html": [
       "<div>\n",
       "<style scoped>\n",
       "    .dataframe tbody tr th:only-of-type {\n",
       "        vertical-align: middle;\n",
       "    }\n",
       "\n",
       "    .dataframe tbody tr th {\n",
       "        vertical-align: top;\n",
       "    }\n",
       "\n",
       "    .dataframe thead th {\n",
       "        text-align: right;\n",
       "    }\n",
       "</style>\n",
       "<table border=\"1\" class=\"dataframe\">\n",
       "  <thead>\n",
       "    <tr style=\"text-align: right;\">\n",
       "      <th></th>\n",
       "      <th>titleid</th>\n",
       "      <th>title</th>\n",
       "      <th>average_rating</th>\n",
       "      <th>num_votes</th>\n",
       "      <th>startyear</th>\n",
       "      <th>runtimeminutes</th>\n",
       "      <th>genres</th>\n",
       "    </tr>\n",
       "  </thead>\n",
       "  <tbody>\n",
       "    <tr>\n",
       "      <th>0</th>\n",
       "      <td>tt0111161</td>\n",
       "      <td>The Shawshank Redemption                      ...</td>\n",
       "      <td>9.3</td>\n",
       "      <td>2358150</td>\n",
       "      <td>1994.0</td>\n",
       "      <td>142.0</td>\n",
       "      <td>Drama                                         ...</td>\n",
       "    </tr>\n",
       "    <tr>\n",
       "      <th>2307</th>\n",
       "      <td>tt0252487</td>\n",
       "      <td>Hababam Sinifi                                ...</td>\n",
       "      <td>9.3</td>\n",
       "      <td>37585</td>\n",
       "      <td>1975.0</td>\n",
       "      <td>87.0</td>\n",
       "      <td>Comedy,Drama                                  ...</td>\n",
       "    </tr>\n",
       "    <tr>\n",
       "      <th>8</th>\n",
       "      <td>tt0068646</td>\n",
       "      <td>The Godfather                                 ...</td>\n",
       "      <td>9.2</td>\n",
       "      <td>1631985</td>\n",
       "      <td>1972.0</td>\n",
       "      <td>175.0</td>\n",
       "      <td>Crime,Drama                                   ...</td>\n",
       "    </tr>\n",
       "    <tr>\n",
       "      <th>8336</th>\n",
       "      <td>tt0249795</td>\n",
       "      <td>Maya Bazaar                                   ...</td>\n",
       "      <td>9.1</td>\n",
       "      <td>4130</td>\n",
       "      <td>1957.0</td>\n",
       "      <td>192.0</td>\n",
       "      <td>Comedy,Drama,Family                           ...</td>\n",
       "    </tr>\n",
       "    <tr>\n",
       "      <th>12232</th>\n",
       "      <td>tt0096403</td>\n",
       "      <td>Vreme na nasilie                              ...</td>\n",
       "      <td>9.0</td>\n",
       "      <td>2061</td>\n",
       "      <td>1988.0</td>\n",
       "      <td>288.0</td>\n",
       "      <td>Drama                                         ...</td>\n",
       "    </tr>\n",
       "    <tr>\n",
       "      <th>8883</th>\n",
       "      <td>tt0353975</td>\n",
       "      <td>Sandesham                                     ...</td>\n",
       "      <td>9.0</td>\n",
       "      <td>3672</td>\n",
       "      <td>1991.0</td>\n",
       "      <td>138.0</td>\n",
       "      <td>Comedy,Drama                                  ...</td>\n",
       "    </tr>\n",
       "    <tr>\n",
       "      <th>3272</th>\n",
       "      <td>tt0253828</td>\n",
       "      <td>Tosun Pasa                                    ...</td>\n",
       "      <td>9.0</td>\n",
       "      <td>21679</td>\n",
       "      <td>1976.0</td>\n",
       "      <td>90.0</td>\n",
       "      <td>Comedy,History                                ...</td>\n",
       "    </tr>\n",
       "    <tr>\n",
       "      <th>3249</th>\n",
       "      <td>tt0252488</td>\n",
       "      <td>Hababam Sinifi Sinifta Kaldi                  ...</td>\n",
       "      <td>9.0</td>\n",
       "      <td>21914</td>\n",
       "      <td>1976.0</td>\n",
       "      <td>91.0</td>\n",
       "      <td>Comedy                                        ...</td>\n",
       "    </tr>\n",
       "    <tr>\n",
       "      <th>4105</th>\n",
       "      <td>tt0084302</td>\n",
       "      <td>Maratonci trce pocasni krug                   ...</td>\n",
       "      <td>9.0</td>\n",
       "      <td>14581</td>\n",
       "      <td>1982.0</td>\n",
       "      <td>92.0</td>\n",
       "      <td>Comedy,Drama                                  ...</td>\n",
       "    </tr>\n",
       "    <tr>\n",
       "      <th>11589</th>\n",
       "      <td>tt0259534</td>\n",
       "      <td>Ramayana: The Legend of Prince Rama           ...</td>\n",
       "      <td>9.0</td>\n",
       "      <td>2299</td>\n",
       "      <td>1992.0</td>\n",
       "      <td>170.0</td>\n",
       "      <td>Action,Adventure,Animation                    ...</td>\n",
       "    </tr>\n",
       "  </tbody>\n",
       "</table>\n",
       "</div>"
      ],
      "text/plain": [
       "          titleid                                              title  \\\n",
       "0      tt0111161   The Shawshank Redemption                      ...   \n",
       "2307   tt0252487   Hababam Sinifi                                ...   \n",
       "8      tt0068646   The Godfather                                 ...   \n",
       "8336   tt0249795   Maya Bazaar                                   ...   \n",
       "12232  tt0096403   Vreme na nasilie                              ...   \n",
       "8883   tt0353975   Sandesham                                     ...   \n",
       "3272   tt0253828   Tosun Pasa                                    ...   \n",
       "3249   tt0252488   Hababam Sinifi Sinifta Kaldi                  ...   \n",
       "4105   tt0084302   Maratonci trce pocasni krug                   ...   \n",
       "11589  tt0259534   Ramayana: The Legend of Prince Rama           ...   \n",
       "\n",
       "       average_rating  num_votes  startyear  runtimeminutes  \\\n",
       "0                 9.3    2358150     1994.0           142.0   \n",
       "2307              9.3      37585     1975.0            87.0   \n",
       "8                 9.2    1631985     1972.0           175.0   \n",
       "8336              9.1       4130     1957.0           192.0   \n",
       "12232             9.0       2061     1988.0           288.0   \n",
       "8883              9.0       3672     1991.0           138.0   \n",
       "3272              9.0      21679     1976.0            90.0   \n",
       "3249              9.0      21914     1976.0            91.0   \n",
       "4105              9.0      14581     1982.0            92.0   \n",
       "11589             9.0       2299     1992.0           170.0   \n",
       "\n",
       "                                                  genres  \n",
       "0      Drama                                         ...  \n",
       "2307   Comedy,Drama                                  ...  \n",
       "8      Crime,Drama                                   ...  \n",
       "8336   Comedy,Drama,Family                           ...  \n",
       "12232  Drama                                         ...  \n",
       "8883   Comedy,Drama                                  ...  \n",
       "3272   Comedy,History                                ...  \n",
       "3249   Comedy                                        ...  \n",
       "4105   Comedy,Drama                                  ...  \n",
       "11589  Action,Adventure,Animation                    ...  "
      ]
     },
     "execution_count": 44,
     "metadata": {},
     "output_type": "execute_result"
    }
   ],
   "source": [
    "df_more_voted.sort_values(by=\"average_rating\", ascending=False).head(10)"
   ]
  },
  {
   "cell_type": "code",
   "execution_count": null,
   "metadata": {},
   "outputs": [],
   "source": []
  }
 ],
 "metadata": {
  "kernelspec": {
   "name": "python385jvsc74a57bd0dad89333b914fd8bc6fbbdb70ffe67b90b98897b00290bc7f3880cec0c6298ee",
   "display_name": "Python 3.8.5 32-bit ('imdb-env')"
  },
  "language_info": {
   "codemirror_mode": {
    "name": "ipython",
    "version": 3
   },
   "file_extension": ".py",
   "mimetype": "text/x-python",
   "name": "python",
   "nbconvert_exporter": "python",
   "pygments_lexer": "ipython3",
   "version": "3.8.5-final"
  }
 },
 "nbformat": 4,
 "nbformat_minor": 4
}